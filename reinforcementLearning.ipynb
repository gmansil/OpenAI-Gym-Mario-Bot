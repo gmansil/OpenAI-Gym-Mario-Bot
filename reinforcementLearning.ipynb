{
 "cells": [
  {
   "cell_type": "code",
   "execution_count": null,
   "id": "edb0f4e3",
   "metadata": {},
   "outputs": [],
   "source": [
    "# install necessary dependencies \n",
    "# !pip install \"stable-baselines3[extra]\"\n",
    "# !pip install \"pyglet\""
   ]
  },
  {
   "cell_type": "code",
   "execution_count": 5,
   "id": "1bdd1c1b",
   "metadata": {},
   "outputs": [],
   "source": [
    "# import the necessary libraries\n",
    "import os\n",
    "import gym\n",
    "from stable_baselines3 import PPO\n",
    "from stable_baselines3.common.vec_env import DummyVecEnv\n",
    "from stable_baselines3.common.evaluation import evaluate_policy "
   ]
  },
  {
   "cell_type": "code",
   "execution_count": 6,
   "id": "617d2e3e",
   "metadata": {},
   "outputs": [],
   "source": [
    "# load environment\n",
    "environmentName = \"CartPole-v0\"\n",
    "env = gym.make(environmentName)"
   ]
  },
  {
   "cell_type": "code",
   "execution_count": 7,
   "id": "1d9ae3cc",
   "metadata": {
    "scrolled": true
   },
   "outputs": [
    {
     "name": "stderr",
     "output_type": "stream",
     "text": [
      "2022-10-08 12:46:28.700 Python[57433:9772771] ApplePersistenceIgnoreState: Existing state will not be touched. New state will be written to /var/folders/z_/9ptllsyj7wddqkgy8rlhjncw0000gn/T/org.python.python.savedState\n"
     ]
    },
    {
     "name": "stdout",
     "output_type": "stream",
     "text": [
      "Episode:1 Score:25.0\n",
      "Episode:2 Score:16.0\n",
      "Episode:3 Score:32.0\n",
      "Episode:4 Score:16.0\n",
      "Episode:5 Score:12.0\n"
     ]
    }
   ],
   "source": [
    "# episode = one full game within the environment\n",
    "# some environments have a fixed episode length, others are continuous\n",
    "# breakout won't occur until you run out of lives\n",
    "episodes = 5\n",
    "for episode in range(1, episodes+1):\n",
    "    # resetting environment for agent to interact with again and apply rewards\n",
    "    state = env.reset()\n",
    "    # initalizing variables\n",
    "    done = False\n",
    "    score = 0\n",
    "    \n",
    "    while not done:\n",
    "        # graphical representation of environment\n",
    "        env.render()\n",
    "        # an action is randomized from available actions to take (2)\n",
    "        action = env.action_space.sample()\n",
    "        # applies the action from the previous line \n",
    "        n_state, reward, done, info = env.step(action)\n",
    "        score += reward\n",
    "    print(\"Episode:{} Score:{}\".format(episode, score))\n",
    "env.close()"
   ]
  },
  {
   "cell_type": "code",
   "execution_count": 6,
   "id": "0755c68f",
   "metadata": {},
   "outputs": [
    {
     "data": {
      "text/plain": [
       "Discrete(2)"
      ]
     },
     "execution_count": 6,
     "metadata": {},
     "output_type": "execute_result"
    }
   ],
   "source": [
    "# 2 seperate actions: left(0) or right(1)\n",
    "env.action_space"
   ]
  },
  {
   "cell_type": "code",
   "execution_count": 8,
   "id": "cb013c93",
   "metadata": {},
   "outputs": [
    {
     "data": {
      "text/plain": [
       "Box([-4.8000002e+00 -3.4028235e+38 -4.1887903e-01 -3.4028235e+38], [4.8000002e+00 3.4028235e+38 4.1887903e-01 3.4028235e+38], (4,), float32)"
      ]
     },
     "execution_count": 8,
     "metadata": {},
     "output_type": "execute_result"
    }
   ],
   "source": [
    "# Box[0] = Cart Position, Box[1] = Cart Velocity; Box[2] = Pole Angle; Box[3] = Pole Angular Velocity\n",
    "env.observation_space"
   ]
  },
  {
   "cell_type": "code",
   "execution_count": null,
   "id": "1584d96e",
   "metadata": {},
   "outputs": [],
   "source": [
    "logPath = os.path.join(\"Training\", \"Logs\")"
   ]
  }
 ],
 "metadata": {
  "kernelspec": {
   "display_name": "Python 3 (ipykernel)",
   "language": "python",
   "name": "python3"
  },
  "language_info": {
   "codemirror_mode": {
    "name": "ipython",
    "version": 3
   },
   "file_extension": ".py",
   "mimetype": "text/x-python",
   "name": "python",
   "nbconvert_exporter": "python",
   "pygments_lexer": "ipython3",
   "version": "3.9.6"
  }
 },
 "nbformat": 4,
 "nbformat_minor": 5
}
